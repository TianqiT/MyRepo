{
 "cells": [
  {
   "cell_type": "code",
   "execution_count": 3,
   "metadata": {},
   "outputs": [],
   "source": [
    "import pandas as pd\n",
    "from sklearn.dummy import DummyClassifier"
   ]
  },
  {
   "cell_type": "code",
   "execution_count": 5,
   "metadata": {},
   "outputs": [],
   "source": [
    "df = pd.read_csv(\"train.csv\")"
   ]
  },
  {
   "cell_type": "code",
   "execution_count": 8,
   "metadata": {},
   "outputs": [],
   "source": [
    "def ML_pipeline_kfold2(X,y,rs,n_folds,ML_algo,param_grid):\n",
    "    # create a test set\n",
    "    X_other, X_test, y_other, y_test = train_test_split(X,y,test_size = 0.2, stratify = X['MTRANS'],random_state=rs)\n",
    "    # splitter for _other\n",
    "    kf = StratifiedKFold(n_splits=n_folds,shuffle=True,random_state=rs)\n",
    "    # create the pipeline: preprocessor + supervised ML method\n",
    "    cat_ftrs = ['Gender','family_history_with_overweight','FAVC','SMOKE','SCC','MTRANS']\n",
    "    ordinal_ftrs = ['CAEC','CALC']\n",
    "    ordinal_cats = [['no','Sometimes','Frequently','Always'],['no','Sometimes','Frequently','Always']]\n",
    "    num_ftrs = ['Age','Height','Weight','FCVC','NCP','CH2O','FAF','TUE']\n",
    "    # one-hot encoder\n",
    "    categorical_transformer = Pipeline(steps=[\n",
    "        ('onehot', OneHotEncoder(sparse=False,handle_unknown='ignore'))])\n",
    "\n",
    "    # ordinal encoder\n",
    "    ordinal_transformer = Pipeline(steps=[\n",
    "        ('ordinal', OrdinalEncoder(categories = ordinal_cats))])\n",
    "\n",
    "    # standard scaler\n",
    "    numeric_transformer = Pipeline(steps=[\n",
    "        ('scaler', StandardScaler())])\n",
    "\n",
    "    # collect the transformers\n",
    "    preprocessor = ColumnTransformer(\n",
    "        transformers=[\n",
    "            ('num', numeric_transformer, num_ftrs),\n",
    "            ('cat', categorical_transformer, cat_ftrs),\n",
    "            ('ord', ordinal_transformer, ordinal_ftrs)])\n",
    "    le = LabelEncoder()\n",
    "    X_other_prep = preprocessor.fit_transform(X_other)\n",
    "    X_test_prep = preprocessor.transform(X_test)\n",
    "    y_other_prep = le.fit_transform(y_other)\n",
    "    y_test_prep = le.transform(y_test)\n",
    "    pipe = make_pipeline(ML_algo)\n",
    "    print(pipe.get_params().keys())\n",
    "#     df_train = pd.DataFrame(data=X_prep,columns=feature_names)\n",
    "#     print(df_train.shape)\n",
    "\n",
    "#     # transform the CV\n",
    "#     df_CV = preprocessor.transform(X_CV)\n",
    "#     df_CV = pd.DataFrame(data=df_CV,columns = feature_names)\n",
    "#     print(df_CV.shape)\n",
    "\n",
    "#     # transform the test\n",
    "#     df_test = preprocessor.transform(X_test)\n",
    "#     df_test = pd.DataFrame(data=df_test,columns = feature_names)\n",
    "#     print(df_test.shape)\n",
    "    # prepare gridsearch\n",
    "    grid = GridSearchCV(pipe, param_grid=param_grid,cv=kf, return_train_score = True,n_jobs=-1,verbose=10)\n",
    "    # do kfold CV on _other\n",
    "    grid.fit(X_other_prep, y_other_prep)\n",
    "    feature_names = num_ftrs + ordinal_ftrs+ \\\n",
    "                list(preprocessor.named_transformers_['cat'][0].get_feature_names(cat_ftrs))\n",
    "    y_test_pred = grid.predict(X_test_prep)\n",
    "    X_other2 = pd.DataFrame(data=X_other_prep,columns = feature_names)\n",
    "    X_test2 = pd.DataFrame(data=X_test_prep,columns = feature_names)\n",
    "    return grid, np.array(feature_names),X_other2, y_other_prep, X_test2, y_test_prep, y_test_pred, preprocessor, pipe, le"
   ]
  },
  {
   "cell_type": "code",
   "execution_count": 11,
   "metadata": {},
   "outputs": [
    {
     "data": {
      "text/plain": [
       "0.6149460204701593"
      ]
     },
     "execution_count": 11,
     "metadata": {},
     "output_type": "execute_result"
    }
   ],
   "source": [
    "from sklearn.dummy import DummyClassifier\n",
    "ML_algo = DummyClassifier(strategy = \"most_frequent\")\n",
    "param_grid = {\n",
    "             }\n",
    "X = df['image_id']\n",
    "y = df['label']\n",
    "\n",
    "dummy_clf = DummyClassifier(strategy=\"most_frequent\")\n",
    "dummy_clf.fit(X, y)\n",
    "dummy_clf.score(X, y)"
   ]
  },
  {
   "cell_type": "code",
   "execution_count": null,
   "metadata": {},
   "outputs": [],
   "source": []
  }
 ],
 "metadata": {
  "kernelspec": {
   "display_name": "Python 3",
   "language": "python",
   "name": "python3"
  },
  "language_info": {
   "codemirror_mode": {
    "name": "ipython",
    "version": 3
   },
   "file_extension": ".py",
   "mimetype": "text/x-python",
   "name": "python",
   "nbconvert_exporter": "python",
   "pygments_lexer": "ipython3",
   "version": "3.7.8"
  }
 },
 "nbformat": 4,
 "nbformat_minor": 4
}
